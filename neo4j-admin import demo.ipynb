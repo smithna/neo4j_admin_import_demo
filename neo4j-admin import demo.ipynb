{
 "cells": [
  {
   "cell_type": "code",
   "execution_count": 1,
   "id": "5b9b59d5-1c0c-4ef7-b17c-c6d04ad8243d",
   "metadata": {},
   "outputs": [],
   "source": [
    "import pandas as pd\n",
    "import os\n",
    "from pathlib import Path\n",
    "from getpass import getpass"
   ]
  },
  {
   "cell_type": "markdown",
   "id": "b14904a4-2737-4ce7-8de7-97eab2ea0de2",
   "metadata": {},
   "source": [
    "# Read in data from CSV. \n",
    "Data originally downloaded from https://www.kaggle.com/datasets/tuhinmallick02/insider-trading-sp-500\n",
    "\n",
    "The data represents stock transactions by insiders at corporations."
   ]
  },
  {
   "cell_type": "code",
   "execution_count": 2,
   "id": "a926109b-9a10-478d-9f26-cb050602839f",
   "metadata": {},
   "outputs": [],
   "source": [
    "insider_df = pd.read_csv(\"insiderdata.csv\")"
   ]
  },
  {
   "cell_type": "code",
   "execution_count": 3,
   "id": "b68fb201-0b8a-4dde-be62-0ac701c607d2",
   "metadata": {},
   "outputs": [
    {
     "data": {
      "text/html": [
       "<div>\n",
       "<style scoped>\n",
       "    .dataframe tbody tr th:only-of-type {\n",
       "        vertical-align: middle;\n",
       "    }\n",
       "\n",
       "    .dataframe tbody tr th {\n",
       "        vertical-align: top;\n",
       "    }\n",
       "\n",
       "    .dataframe thead th {\n",
       "        text-align: right;\n",
       "    }\n",
       "</style>\n",
       "<table border=\"1\" class=\"dataframe\">\n",
       "  <thead>\n",
       "    <tr style=\"text-align: right;\">\n",
       "      <th></th>\n",
       "      <th>Unnamed: 0.1</th>\n",
       "      <th>Unnamed: 0</th>\n",
       "      <th>Buy/Sell</th>\n",
       "      <th>Transaction Date</th>\n",
       "      <th>Acceptance Date Time</th>\n",
       "      <th>Issuer Name</th>\n",
       "      <th>Issuer Trading Symbol</th>\n",
       "      <th>Reporting Owner Name</th>\n",
       "      <th>Reporting Owner Relationship</th>\n",
       "      <th>Transcation Share</th>\n",
       "      <th>Price Per share</th>\n",
       "      <th>Total Value</th>\n",
       "      <th>Shares Owned Following Transaction</th>\n",
       "      <th>Form</th>\n",
       "      <th>sector</th>\n",
       "      <th>market_cap</th>\n",
       "    </tr>\n",
       "  </thead>\n",
       "  <tbody>\n",
       "    <tr>\n",
       "      <th>0</th>\n",
       "      <td>0</td>\n",
       "      <td>0</td>\n",
       "      <td>Sell</td>\n",
       "      <td>2017-01-04</td>\n",
       "      <td>2017-01-06 20:57:22</td>\n",
       "      <td>Immune Design Corp.</td>\n",
       "      <td>IMDZ</td>\n",
       "      <td>Brady Stephen R</td>\n",
       "      <td>officer</td>\n",
       "      <td>1,642</td>\n",
       "      <td>$5.3500</td>\n",
       "      <td>$8,784.7000</td>\n",
       "      <td>30,490</td>\n",
       "      <td>Form 4</td>\n",
       "      <td>Health Care</td>\n",
       "      <td>282403939.76</td>\n",
       "    </tr>\n",
       "    <tr>\n",
       "      <th>1</th>\n",
       "      <td>1</td>\n",
       "      <td>1</td>\n",
       "      <td>Sell</td>\n",
       "      <td>2017-01-05</td>\n",
       "      <td>2017-01-06 20:46:33</td>\n",
       "      <td>HURCO COMPANIES INC</td>\n",
       "      <td>HURC</td>\n",
       "      <td>Volovic Gregory S</td>\n",
       "      <td>officer</td>\n",
       "      <td>2,966</td>\n",
       "      <td>$33.9000</td>\n",
       "      <td>$100,547.0000</td>\n",
       "      <td>28,839</td>\n",
       "      <td>Form 4</td>\n",
       "      <td>Capital Goods</td>\n",
       "      <td>279583548.51</td>\n",
       "    </tr>\n",
       "    <tr>\n",
       "      <th>2</th>\n",
       "      <td>2</td>\n",
       "      <td>2</td>\n",
       "      <td>Sell</td>\n",
       "      <td>2017-01-06</td>\n",
       "      <td>2017-01-06 20:46:02</td>\n",
       "      <td>HURCO COMPANIES INC</td>\n",
       "      <td>HURC</td>\n",
       "      <td>McClelland Sonja K</td>\n",
       "      <td>officer</td>\n",
       "      <td>234</td>\n",
       "      <td>$33.7000</td>\n",
       "      <td>$7,885.8000</td>\n",
       "      <td>17,353</td>\n",
       "      <td>Form 4</td>\n",
       "      <td>Capital Goods</td>\n",
       "      <td>279583548.51</td>\n",
       "    </tr>\n",
       "    <tr>\n",
       "      <th>3</th>\n",
       "      <td>3</td>\n",
       "      <td>3</td>\n",
       "      <td>Sell</td>\n",
       "      <td>2017-01-04</td>\n",
       "      <td>2017-01-06 20:46:02</td>\n",
       "      <td>HURCO COMPANIES INC</td>\n",
       "      <td>HURC</td>\n",
       "      <td>McClelland Sonja K</td>\n",
       "      <td>officer</td>\n",
       "      <td>372</td>\n",
       "      <td>$34.3000</td>\n",
       "      <td>$12,759.6000</td>\n",
       "      <td>12,836</td>\n",
       "      <td>Form 4</td>\n",
       "      <td>Capital Goods</td>\n",
       "      <td>279583548.51</td>\n",
       "    </tr>\n",
       "    <tr>\n",
       "      <th>4</th>\n",
       "      <td>4</td>\n",
       "      <td>4</td>\n",
       "      <td>Sell</td>\n",
       "      <td>2017-01-05</td>\n",
       "      <td>2017-01-06 20:45:30</td>\n",
       "      <td>HURCO COMPANIES INC</td>\n",
       "      <td>HURC</td>\n",
       "      <td>Donlon John P.</td>\n",
       "      <td>officer</td>\n",
       "      <td>1,018</td>\n",
       "      <td>$33.9000</td>\n",
       "      <td>$34,510.2000</td>\n",
       "      <td>12,689</td>\n",
       "      <td>Form 4</td>\n",
       "      <td>Capital Goods</td>\n",
       "      <td>279583548.51</td>\n",
       "    </tr>\n",
       "  </tbody>\n",
       "</table>\n",
       "</div>"
      ],
      "text/plain": [
       "   Unnamed: 0.1  Unnamed: 0 Buy/Sell Transaction Date Acceptance Date Time  \\\n",
       "0             0           0     Sell       2017-01-04  2017-01-06 20:57:22   \n",
       "1             1           1     Sell       2017-01-05  2017-01-06 20:46:33   \n",
       "2             2           2     Sell       2017-01-06  2017-01-06 20:46:02   \n",
       "3             3           3     Sell       2017-01-04  2017-01-06 20:46:02   \n",
       "4             4           4     Sell       2017-01-05  2017-01-06 20:45:30   \n",
       "\n",
       "           Issuer Name Issuer Trading Symbol Reporting Owner Name  \\\n",
       "0  Immune Design Corp.                  IMDZ      Brady Stephen R   \n",
       "1  HURCO COMPANIES INC                  HURC    Volovic Gregory S   \n",
       "2  HURCO COMPANIES INC                  HURC   McClelland Sonja K   \n",
       "3  HURCO COMPANIES INC                  HURC   McClelland Sonja K   \n",
       "4  HURCO COMPANIES INC                  HURC       Donlon John P.   \n",
       "\n",
       "  Reporting Owner Relationship Transcation Share Price Per share  \\\n",
       "0                      officer             1,642         $5.3500   \n",
       "1                      officer             2,966        $33.9000   \n",
       "2                      officer               234        $33.7000   \n",
       "3                      officer               372        $34.3000   \n",
       "4                      officer             1,018        $33.9000   \n",
       "\n",
       "     Total Value Shares Owned Following Transaction    Form         sector  \\\n",
       "0    $8,784.7000                             30,490  Form 4    Health Care   \n",
       "1  $100,547.0000                             28,839  Form 4  Capital Goods   \n",
       "2    $7,885.8000                             17,353  Form 4  Capital Goods   \n",
       "3   $12,759.6000                             12,836  Form 4  Capital Goods   \n",
       "4   $34,510.2000                             12,689  Form 4  Capital Goods   \n",
       "\n",
       "     market_cap  \n",
       "0  282403939.76  \n",
       "1  279583548.51  \n",
       "2  279583548.51  \n",
       "3  279583548.51  \n",
       "4  279583548.51  "
      ]
     },
     "execution_count": 3,
     "metadata": {},
     "output_type": "execute_result"
    }
   ],
   "source": [
    "insider_df.head()"
   ]
  },
  {
   "cell_type": "markdown",
   "id": "8b111ff6-0c18-40c3-893f-619ced1898df",
   "metadata": {},
   "source": [
    "# Format data\n",
    "Before we can use `neo4j-admin import`, we need to generate CSV files in the special format that the importer requires.\n",
    "\n",
    "Rename columns to follow Neo4j property naming conventions."
   ]
  },
  {
   "cell_type": "code",
   "execution_count": 4,
   "id": "303632e8-360f-44cc-a981-1028ab88459d",
   "metadata": {},
   "outputs": [],
   "source": [
    "rename_dict = {'Unnamed: 0':'transactionId', \n",
    "               'Buy/Sell':'transactionType', \n",
    "               'Transaction Date': 'transactionDate',\n",
    "               'Acceptance Date Time': 'acceptanceDateTime', \n",
    "               'Issuer Name': 'issuerName', \n",
    "               'Issuer Trading Symbol': 'issuerTradingSymbol',\n",
    "               'Reporting Owner Name': 'reportingOwnerName', \n",
    "               'Reporting Owner Relationship': 'reportingOwnerRelationship',\n",
    "               'Transcation Share': 'transactionShare', \n",
    "               'Price Per share': 'pricePerShare', \n",
    "               'Total Value': 'totalValue',\n",
    "               'Shares Owned Following Transaction': 'sharesOwnedFollowingTransaction', \n",
    "               'Form': 'form', \n",
    "               'sector': 'sector', \n",
    "               'market_cap': 'marketCap'}"
   ]
  },
  {
   "cell_type": "code",
   "execution_count": 5,
   "id": "b3927f8d-5c9b-43a7-98f1-b11510420cad",
   "metadata": {},
   "outputs": [
    {
     "data": {
      "text/html": [
       "<div>\n",
       "<style scoped>\n",
       "    .dataframe tbody tr th:only-of-type {\n",
       "        vertical-align: middle;\n",
       "    }\n",
       "\n",
       "    .dataframe tbody tr th {\n",
       "        vertical-align: top;\n",
       "    }\n",
       "\n",
       "    .dataframe thead th {\n",
       "        text-align: right;\n",
       "    }\n",
       "</style>\n",
       "<table border=\"1\" class=\"dataframe\">\n",
       "  <thead>\n",
       "    <tr style=\"text-align: right;\">\n",
       "      <th></th>\n",
       "      <th>transactionId</th>\n",
       "      <th>transactionType</th>\n",
       "      <th>transactionDate</th>\n",
       "      <th>acceptanceDateTime</th>\n",
       "      <th>issuerName</th>\n",
       "      <th>issuerTradingSymbol</th>\n",
       "      <th>reportingOwnerName</th>\n",
       "      <th>reportingOwnerRelationship</th>\n",
       "      <th>transactionShare</th>\n",
       "      <th>pricePerShare</th>\n",
       "      <th>totalValue</th>\n",
       "      <th>sharesOwnedFollowingTransaction</th>\n",
       "      <th>form</th>\n",
       "      <th>sector</th>\n",
       "      <th>marketCap</th>\n",
       "    </tr>\n",
       "  </thead>\n",
       "  <tbody>\n",
       "    <tr>\n",
       "      <th>0</th>\n",
       "      <td>0</td>\n",
       "      <td>Sell</td>\n",
       "      <td>2017-01-04</td>\n",
       "      <td>2017-01-06 20:57:22</td>\n",
       "      <td>Immune Design Corp.</td>\n",
       "      <td>IMDZ</td>\n",
       "      <td>Brady Stephen R</td>\n",
       "      <td>officer</td>\n",
       "      <td>1,642</td>\n",
       "      <td>$5.3500</td>\n",
       "      <td>$8,784.7000</td>\n",
       "      <td>30,490</td>\n",
       "      <td>Form 4</td>\n",
       "      <td>Health Care</td>\n",
       "      <td>282403939.76</td>\n",
       "    </tr>\n",
       "    <tr>\n",
       "      <th>1</th>\n",
       "      <td>1</td>\n",
       "      <td>Sell</td>\n",
       "      <td>2017-01-05</td>\n",
       "      <td>2017-01-06 20:46:33</td>\n",
       "      <td>HURCO COMPANIES INC</td>\n",
       "      <td>HURC</td>\n",
       "      <td>Volovic Gregory S</td>\n",
       "      <td>officer</td>\n",
       "      <td>2,966</td>\n",
       "      <td>$33.9000</td>\n",
       "      <td>$100,547.0000</td>\n",
       "      <td>28,839</td>\n",
       "      <td>Form 4</td>\n",
       "      <td>Capital Goods</td>\n",
       "      <td>279583548.51</td>\n",
       "    </tr>\n",
       "    <tr>\n",
       "      <th>2</th>\n",
       "      <td>2</td>\n",
       "      <td>Sell</td>\n",
       "      <td>2017-01-06</td>\n",
       "      <td>2017-01-06 20:46:02</td>\n",
       "      <td>HURCO COMPANIES INC</td>\n",
       "      <td>HURC</td>\n",
       "      <td>McClelland Sonja K</td>\n",
       "      <td>officer</td>\n",
       "      <td>234</td>\n",
       "      <td>$33.7000</td>\n",
       "      <td>$7,885.8000</td>\n",
       "      <td>17,353</td>\n",
       "      <td>Form 4</td>\n",
       "      <td>Capital Goods</td>\n",
       "      <td>279583548.51</td>\n",
       "    </tr>\n",
       "    <tr>\n",
       "      <th>3</th>\n",
       "      <td>3</td>\n",
       "      <td>Sell</td>\n",
       "      <td>2017-01-04</td>\n",
       "      <td>2017-01-06 20:46:02</td>\n",
       "      <td>HURCO COMPANIES INC</td>\n",
       "      <td>HURC</td>\n",
       "      <td>McClelland Sonja K</td>\n",
       "      <td>officer</td>\n",
       "      <td>372</td>\n",
       "      <td>$34.3000</td>\n",
       "      <td>$12,759.6000</td>\n",
       "      <td>12,836</td>\n",
       "      <td>Form 4</td>\n",
       "      <td>Capital Goods</td>\n",
       "      <td>279583548.51</td>\n",
       "    </tr>\n",
       "    <tr>\n",
       "      <th>4</th>\n",
       "      <td>4</td>\n",
       "      <td>Sell</td>\n",
       "      <td>2017-01-05</td>\n",
       "      <td>2017-01-06 20:45:30</td>\n",
       "      <td>HURCO COMPANIES INC</td>\n",
       "      <td>HURC</td>\n",
       "      <td>Donlon John P.</td>\n",
       "      <td>officer</td>\n",
       "      <td>1,018</td>\n",
       "      <td>$33.9000</td>\n",
       "      <td>$34,510.2000</td>\n",
       "      <td>12,689</td>\n",
       "      <td>Form 4</td>\n",
       "      <td>Capital Goods</td>\n",
       "      <td>279583548.51</td>\n",
       "    </tr>\n",
       "  </tbody>\n",
       "</table>\n",
       "</div>"
      ],
      "text/plain": [
       "   transactionId transactionType transactionDate   acceptanceDateTime  \\\n",
       "0              0            Sell      2017-01-04  2017-01-06 20:57:22   \n",
       "1              1            Sell      2017-01-05  2017-01-06 20:46:33   \n",
       "2              2            Sell      2017-01-06  2017-01-06 20:46:02   \n",
       "3              3            Sell      2017-01-04  2017-01-06 20:46:02   \n",
       "4              4            Sell      2017-01-05  2017-01-06 20:45:30   \n",
       "\n",
       "            issuerName issuerTradingSymbol  reportingOwnerName  \\\n",
       "0  Immune Design Corp.                IMDZ     Brady Stephen R   \n",
       "1  HURCO COMPANIES INC                HURC   Volovic Gregory S   \n",
       "2  HURCO COMPANIES INC                HURC  McClelland Sonja K   \n",
       "3  HURCO COMPANIES INC                HURC  McClelland Sonja K   \n",
       "4  HURCO COMPANIES INC                HURC      Donlon John P.   \n",
       "\n",
       "  reportingOwnerRelationship transactionShare pricePerShare     totalValue  \\\n",
       "0                    officer            1,642       $5.3500    $8,784.7000   \n",
       "1                    officer            2,966      $33.9000  $100,547.0000   \n",
       "2                    officer              234      $33.7000    $7,885.8000   \n",
       "3                    officer              372      $34.3000   $12,759.6000   \n",
       "4                    officer            1,018      $33.9000   $34,510.2000   \n",
       "\n",
       "  sharesOwnedFollowingTransaction    form         sector     marketCap  \n",
       "0                          30,490  Form 4    Health Care  282403939.76  \n",
       "1                          28,839  Form 4  Capital Goods  279583548.51  \n",
       "2                          17,353  Form 4  Capital Goods  279583548.51  \n",
       "3                          12,836  Form 4  Capital Goods  279583548.51  \n",
       "4                          12,689  Form 4  Capital Goods  279583548.51  "
      ]
     },
     "execution_count": 5,
     "metadata": {},
     "output_type": "execute_result"
    }
   ],
   "source": [
    "insider_df.rename(rename_dict, axis=1, inplace=True)\n",
    "insider_df.drop(\"Unnamed: 0.1\", axis=1, inplace=True)\n",
    "insider_df.head()"
   ]
  },
  {
   "cell_type": "markdown",
   "id": "3e0569c8-66f6-4319-a112-bf171b66c858",
   "metadata": {},
   "source": [
    "Split the dataframe into two parts: one part for demonstrating a full load, and a second part for demonstrating an incremental load."
   ]
  },
  {
   "cell_type": "code",
   "execution_count": 6,
   "id": "d3df3580-b042-4148-93f3-45d9e7bdd31c",
   "metadata": {},
   "outputs": [],
   "source": [
    "full_df = insider_df.iloc[:20000, :]\n",
    "incremental_df = insider_df.iloc[20000:, :]"
   ]
  },
  {
   "cell_type": "markdown",
   "id": "d4963e24-4e01-4be9-ba3d-75f0fe7a6bc9",
   "metadata": {},
   "source": [
    "# Create node files\n",
    "## Companies"
   ]
  },
  {
   "cell_type": "markdown",
   "id": "801f670d-14fe-4410-8e02-9f2dafc4e188",
   "metadata": {},
   "source": [
    "`neo4j-admin import` expects columns in the CSV to have special names. \n",
    "* A column name followed by colon and data type allows you to specify a data type other than string\n",
    "* A column name followed by colon and ID identifies the unique identifier for the node. The string in parenthesis following the ID is the namespace for the node ID. Each ID must be unique within the namespace."
   ]
  },
  {
   "cell_type": "code",
   "execution_count": 7,
   "id": "0fdc2ac1-8b5b-47ff-8d6b-086c9a6de40d",
   "metadata": {},
   "outputs": [],
   "source": [
    "def prep_companies(data_df):\n",
    "    company_df = data_df.loc[:, ['issuerName', 'issuerTradingSymbol', 'form', 'sector', 'marketCap']]\n",
    "    company_df.drop_duplicates(subset = 'issuerTradingSymbol', keep='first', inplace=True)\n",
    "    company_df['marketCap'] = pd.to_numeric(company_df['marketCap'], errors='coerce')\n",
    "    company_df.columns = ['issuerName', 'issuerTradingSymbol:ID(Company)', 'form', 'sector', 'marketCap:double']\n",
    "    company_df[':LABEL'] = 'Company'\n",
    "    return company_df"
   ]
  },
  {
   "cell_type": "code",
   "execution_count": 8,
   "id": "15b60297-678c-4726-897b-315ff32293f3",
   "metadata": {},
   "outputs": [],
   "source": [
    "full_company_df = prep_companies(full_df)\n",
    "incremental_company_df = prep_companies(incremental_df)"
   ]
  },
  {
   "cell_type": "markdown",
   "id": "a26f8508-f897-42e5-8634-6f83605ed8c1",
   "metadata": {},
   "source": [
    "We don't want to reimport companies that were already loaded as part of the full import. `neo4j-admin import` cannot update properties on existing nodes, so there is no reason to reload the existing nodes. The presence of previously loaded nodes will cause the incremental update to fail unless you set `--skip-duplicate-nodes=true`. We will remove these duplicate nodes from the import to avoid that problem.\n",
    "\n",
    "When doing an incremental import, you have to have a unique constraint on the ID property. Appending `{label:Company}` at the end of the column name for the ID column tells `neo4j-admin import` which label to look for the unique constraint on. The importer can't get this information from the `:LABEL` column, because a node might have more than one label."
   ]
  },
  {
   "cell_type": "code",
   "execution_count": 9,
   "id": "fd3f8c9d",
   "metadata": {},
   "outputs": [],
   "source": [
    "incremental_company_df = (\n",
    "    incremental_company_df.loc[~incremental_company_df['issuerTradingSymbol:ID(Company)']\n",
    "                               .isin(full_company_df['issuerTradingSymbol:ID(Company)'])])\n",
    "incremental_company_df.rename({'issuerTradingSymbol:ID(Company)':'issuerTradingSymbol:ID(Company){label:Company}'}, \n",
    "                              axis=1, inplace=True)"
   ]
  },
  {
   "cell_type": "code",
   "execution_count": 10,
   "id": "65b3d8ef-38b9-4d7a-a112-d714fc614471",
   "metadata": {},
   "outputs": [
    {
     "data": {
      "text/html": [
       "<div>\n",
       "<style scoped>\n",
       "    .dataframe tbody tr th:only-of-type {\n",
       "        vertical-align: middle;\n",
       "    }\n",
       "\n",
       "    .dataframe tbody tr th {\n",
       "        vertical-align: top;\n",
       "    }\n",
       "\n",
       "    .dataframe thead th {\n",
       "        text-align: right;\n",
       "    }\n",
       "</style>\n",
       "<table border=\"1\" class=\"dataframe\">\n",
       "  <thead>\n",
       "    <tr style=\"text-align: right;\">\n",
       "      <th></th>\n",
       "      <th>issuerName</th>\n",
       "      <th>issuerTradingSymbol:ID(Company){label:Company}</th>\n",
       "      <th>form</th>\n",
       "      <th>sector</th>\n",
       "      <th>marketCap:double</th>\n",
       "      <th>:LABEL</th>\n",
       "    </tr>\n",
       "  </thead>\n",
       "  <tbody>\n",
       "    <tr>\n",
       "      <th>20067</th>\n",
       "      <td>EQT Midstream Partners, LP</td>\n",
       "      <td>EQM</td>\n",
       "      <td>Form 4</td>\n",
       "      <td>Public Utilities</td>\n",
       "      <td>8.937275e+09</td>\n",
       "      <td>Company</td>\n",
       "    </tr>\n",
       "    <tr>\n",
       "      <th>20086</th>\n",
       "      <td>WES Consulting, Inc.</td>\n",
       "      <td>WSCU</td>\n",
       "      <td>Form 4</td>\n",
       "      <td>unknown</td>\n",
       "      <td>NaN</td>\n",
       "      <td>Company</td>\n",
       "    </tr>\n",
       "    <tr>\n",
       "      <th>20109</th>\n",
       "      <td>CGI HOLDING CORP</td>\n",
       "      <td>CGIH</td>\n",
       "      <td>Form 4</td>\n",
       "      <td>unknown</td>\n",
       "      <td>NaN</td>\n",
       "      <td>Company</td>\n",
       "    </tr>\n",
       "    <tr>\n",
       "      <th>20147</th>\n",
       "      <td>PACIFIC CONTINENTAL CORP</td>\n",
       "      <td>PCBK</td>\n",
       "      <td>Form 4</td>\n",
       "      <td>unknown</td>\n",
       "      <td>NaN</td>\n",
       "      <td>Company</td>\n",
       "    </tr>\n",
       "    <tr>\n",
       "      <th>20194</th>\n",
       "      <td>ENERGIZER HOLDINGS INC</td>\n",
       "      <td>ENR</td>\n",
       "      <td>Form 4</td>\n",
       "      <td>Miscellaneous</td>\n",
       "      <td>3.206549e+09</td>\n",
       "      <td>Company</td>\n",
       "    </tr>\n",
       "  </tbody>\n",
       "</table>\n",
       "</div>"
      ],
      "text/plain": [
       "                       issuerName  \\\n",
       "20067  EQT Midstream Partners, LP   \n",
       "20086        WES Consulting, Inc.   \n",
       "20109            CGI HOLDING CORP   \n",
       "20147    PACIFIC CONTINENTAL CORP   \n",
       "20194      ENERGIZER HOLDINGS INC   \n",
       "\n",
       "      issuerTradingSymbol:ID(Company){label:Company}    form  \\\n",
       "20067                                            EQM  Form 4   \n",
       "20086                                           WSCU  Form 4   \n",
       "20109                                           CGIH  Form 4   \n",
       "20147                                           PCBK  Form 4   \n",
       "20194                                            ENR  Form 4   \n",
       "\n",
       "                 sector  marketCap:double   :LABEL  \n",
       "20067  Public Utilities      8.937275e+09  Company  \n",
       "20086           unknown               NaN  Company  \n",
       "20109           unknown               NaN  Company  \n",
       "20147           unknown               NaN  Company  \n",
       "20194     Miscellaneous      3.206549e+09  Company  "
      ]
     },
     "execution_count": 10,
     "metadata": {},
     "output_type": "execute_result"
    }
   ],
   "source": [
    "incremental_company_df.head()"
   ]
  },
  {
   "cell_type": "code",
   "execution_count": 11,
   "id": "f0744bbd-6633-44c5-8886-a52812f3dcaa",
   "metadata": {},
   "outputs": [],
   "source": [
    "full_company_df.to_csv(\"./data/full/company.csv\", index=False)\n",
    "incremental_company_df.to_csv(\"./data/incremental/company.csv\", index=False)"
   ]
  },
  {
   "cell_type": "markdown",
   "id": "0a0b0aee-4ef7-40c8-8e16-c51034c08b06",
   "metadata": {},
   "source": [
    "## Owners"
   ]
  },
  {
   "cell_type": "code",
   "execution_count": 12,
   "id": "7b6c97b2-93a3-4447-9491-97997b9768da",
   "metadata": {},
   "outputs": [],
   "source": [
    "def prep_owners(data_df):\n",
    "    owner_df = data_df.loc[:, ['reportingOwnerName']].drop_duplicates()\n",
    "    owner_df.columns = ['reportingOwnerName:ID(Owner)']\n",
    "    owner_df[\":LABEL\"] = \"Owner\"\n",
    "    return owner_df"
   ]
  },
  {
   "cell_type": "code",
   "execution_count": 13,
   "id": "7adf6f0b-66fe-46e1-bf68-6cfbeadb69ea",
   "metadata": {},
   "outputs": [],
   "source": [
    "full_owner_df = prep_owners(full_df)\n",
    "incremental_owner_df = prep_owners(incremental_df)"
   ]
  },
  {
   "cell_type": "code",
   "execution_count": 14,
   "id": "1cc8eb38",
   "metadata": {},
   "outputs": [],
   "source": [
    "incremental_owner_df = (\n",
    "    incremental_owner_df.loc[~incremental_owner_df['reportingOwnerName:ID(Owner)']\n",
    "                               .isin(full_owner_df['reportingOwnerName:ID(Owner)'])])\n",
    "incremental_owner_df.rename({'reportingOwnerName:ID(Owner)': 'reportingOwnerName:ID(Owner){label:Owner}'}, \n",
    "                            axis=1, inplace=True)"
   ]
  },
  {
   "cell_type": "code",
   "execution_count": 15,
   "id": "fdeb184f-4b5e-4df1-9385-80e74697ab19",
   "metadata": {},
   "outputs": [],
   "source": [
    "full_owner_df.to_csv(\"./data/full/owner.csv\", index=False)\n",
    "incremental_owner_df.to_csv(\"./data/incremental/owner.csv\", index=False)"
   ]
  },
  {
   "cell_type": "markdown",
   "id": "d15c55e4-37d4-440b-946d-66720c7403b0",
   "metadata": {},
   "source": [
    "## Transactions"
   ]
  },
  {
   "cell_type": "markdown",
   "id": "d1f5344e",
   "metadata": {},
   "source": [
    "The transaction data requires some manipulation to format the data for loading to Neo4j."
   ]
  },
  {
   "cell_type": "code",
   "execution_count": 16,
   "id": "b3cd4dcd-306d-45ae-9fe5-0152f072a1c4",
   "metadata": {},
   "outputs": [],
   "source": [
    "def currency_to_float(currency):\n",
    "    currency = currency.replace(\"$\", \"\")\n",
    "    currency = currency.replace(\",\", \"\")\n",
    "    currency = float(currency)\n",
    "    return currency\n",
    "\n",
    "def prep_transactions(data_df):\n",
    "    transaction_df = data_df.loc[:, ['transactionId', 'transactionType', 'transactionDate',\n",
    "                                     'acceptanceDateTime', 'reportingOwnerRelationship', 'transactionShare',\n",
    "                                     'pricePerShare', 'totalValue', 'sharesOwnedFollowingTransaction']]\n",
    "    transaction_df['acceptanceDateTime'] = transaction_df['acceptanceDateTime'].str.split(\" \").str.join(\"T\")\n",
    "    numeric_df = transaction_df.loc[:,['transactionShare', 'pricePerShare', 'totalValue', \n",
    "                                       'sharesOwnedFollowingTransaction']].applymap(currency_to_float)\n",
    "    transaction_df[['transactionShare', 'pricePerShare', 'totalValue', \n",
    "                    'sharesOwnedFollowingTransaction']] = numeric_df\n",
    "    transaction_df.columns = ['transactionId:ID(Transaction)', 'transactionType', 'transactionDate:date', \n",
    "                              'acceptanceDateTime:datetime', 'reportingOwnerRelationship', 'transactionShare:double', \n",
    "                              'pricePerShare:double', 'totalValue:double', 'sharesOwnedFollowingTransaction:double']\n",
    "    transaction_df[':LABEL'] = \"Transaction\"\n",
    "    return transaction_df"
   ]
  },
  {
   "cell_type": "code",
   "execution_count": 17,
   "id": "a76919e6-3ddf-45da-a1ca-127fc821b12d",
   "metadata": {},
   "outputs": [],
   "source": [
    "full_transaction_df = prep_transactions(full_df)\n",
    "incremental_transaction_df = prep_transactions(incremental_df)"
   ]
  },
  {
   "cell_type": "code",
   "execution_count": 18,
   "id": "55fa5e95",
   "metadata": {},
   "outputs": [],
   "source": [
    "incremental_transaction_df = (\n",
    "    incremental_transaction_df.loc[~incremental_transaction_df['transactionId:ID(Transaction)']\n",
    "                               .isin(full_transaction_df['transactionId:ID(Transaction)'])])\n",
    "incremental_transaction_df.rename({'transactionId:ID(Transaction)':\n",
    "                                   'transactionId:ID(Transaction){label:Transaction}'}, \n",
    "                                  axis=1, inplace=True)"
   ]
  },
  {
   "cell_type": "code",
   "execution_count": 19,
   "id": "effc77f5-f417-4fba-8061-5d60d2002036",
   "metadata": {},
   "outputs": [
    {
     "data": {
      "text/html": [
       "<div>\n",
       "<style scoped>\n",
       "    .dataframe tbody tr th:only-of-type {\n",
       "        vertical-align: middle;\n",
       "    }\n",
       "\n",
       "    .dataframe tbody tr th {\n",
       "        vertical-align: top;\n",
       "    }\n",
       "\n",
       "    .dataframe thead th {\n",
       "        text-align: right;\n",
       "    }\n",
       "</style>\n",
       "<table border=\"1\" class=\"dataframe\">\n",
       "  <thead>\n",
       "    <tr style=\"text-align: right;\">\n",
       "      <th></th>\n",
       "      <th>transactionId:ID(Transaction){label:Transaction}</th>\n",
       "      <th>transactionType</th>\n",
       "      <th>transactionDate:date</th>\n",
       "      <th>acceptanceDateTime:datetime</th>\n",
       "      <th>reportingOwnerRelationship</th>\n",
       "      <th>transactionShare:double</th>\n",
       "      <th>pricePerShare:double</th>\n",
       "      <th>totalValue:double</th>\n",
       "      <th>sharesOwnedFollowingTransaction:double</th>\n",
       "      <th>:LABEL</th>\n",
       "    </tr>\n",
       "  </thead>\n",
       "  <tbody>\n",
       "    <tr>\n",
       "      <th>20000</th>\n",
       "      <td>20000</td>\n",
       "      <td>Sell</td>\n",
       "      <td>2016-11-15</td>\n",
       "      <td>2016-11-16T18:08:54</td>\n",
       "      <td>officer</td>\n",
       "      <td>249.0</td>\n",
       "      <td>10.7113</td>\n",
       "      <td>2667.11</td>\n",
       "      <td>246296.0</td>\n",
       "      <td>Transaction</td>\n",
       "    </tr>\n",
       "    <tr>\n",
       "      <th>20001</th>\n",
       "      <td>20001</td>\n",
       "      <td>Sell</td>\n",
       "      <td>2016-11-16</td>\n",
       "      <td>2016-11-16T18:07:11</td>\n",
       "      <td>officer</td>\n",
       "      <td>10000.0</td>\n",
       "      <td>133.2540</td>\n",
       "      <td>1332540.00</td>\n",
       "      <td>379896.0</td>\n",
       "      <td>Transaction</td>\n",
       "    </tr>\n",
       "    <tr>\n",
       "      <th>20002</th>\n",
       "      <td>20002</td>\n",
       "      <td>Buy</td>\n",
       "      <td>2016-11-16</td>\n",
       "      <td>2016-11-16T18:04:57</td>\n",
       "      <td>officer</td>\n",
       "      <td>1950.0</td>\n",
       "      <td>25.9900</td>\n",
       "      <td>50680.50</td>\n",
       "      <td>16121.0</td>\n",
       "      <td>Transaction</td>\n",
       "    </tr>\n",
       "    <tr>\n",
       "      <th>20003</th>\n",
       "      <td>20003</td>\n",
       "      <td>Buy</td>\n",
       "      <td>2016-11-14</td>\n",
       "      <td>2016-11-16T18:04:56</td>\n",
       "      <td>officer</td>\n",
       "      <td>12000.0</td>\n",
       "      <td>18.0500</td>\n",
       "      <td>216600.00</td>\n",
       "      <td>38486.0</td>\n",
       "      <td>Transaction</td>\n",
       "    </tr>\n",
       "    <tr>\n",
       "      <th>20004</th>\n",
       "      <td>20004</td>\n",
       "      <td>Sell</td>\n",
       "      <td>2016-11-14</td>\n",
       "      <td>2016-11-16T18:04:56</td>\n",
       "      <td>officer</td>\n",
       "      <td>114865.0</td>\n",
       "      <td>57.7500</td>\n",
       "      <td>6633450.00</td>\n",
       "      <td>15236.0</td>\n",
       "      <td>Transaction</td>\n",
       "    </tr>\n",
       "  </tbody>\n",
       "</table>\n",
       "</div>"
      ],
      "text/plain": [
       "       transactionId:ID(Transaction){label:Transaction} transactionType  \\\n",
       "20000                                             20000            Sell   \n",
       "20001                                             20001            Sell   \n",
       "20002                                             20002             Buy   \n",
       "20003                                             20003             Buy   \n",
       "20004                                             20004            Sell   \n",
       "\n",
       "      transactionDate:date acceptanceDateTime:datetime  \\\n",
       "20000           2016-11-15         2016-11-16T18:08:54   \n",
       "20001           2016-11-16         2016-11-16T18:07:11   \n",
       "20002           2016-11-16         2016-11-16T18:04:57   \n",
       "20003           2016-11-14         2016-11-16T18:04:56   \n",
       "20004           2016-11-14         2016-11-16T18:04:56   \n",
       "\n",
       "      reportingOwnerRelationship  transactionShare:double  \\\n",
       "20000                    officer                    249.0   \n",
       "20001                    officer                  10000.0   \n",
       "20002                    officer                   1950.0   \n",
       "20003                    officer                  12000.0   \n",
       "20004                    officer                 114865.0   \n",
       "\n",
       "       pricePerShare:double  totalValue:double  \\\n",
       "20000               10.7113            2667.11   \n",
       "20001              133.2540         1332540.00   \n",
       "20002               25.9900           50680.50   \n",
       "20003               18.0500          216600.00   \n",
       "20004               57.7500         6633450.00   \n",
       "\n",
       "       sharesOwnedFollowingTransaction:double       :LABEL  \n",
       "20000                                246296.0  Transaction  \n",
       "20001                                379896.0  Transaction  \n",
       "20002                                 16121.0  Transaction  \n",
       "20003                                 38486.0  Transaction  \n",
       "20004                                 15236.0  Transaction  "
      ]
     },
     "execution_count": 19,
     "metadata": {},
     "output_type": "execute_result"
    }
   ],
   "source": [
    "incremental_transaction_df.head()"
   ]
  },
  {
   "cell_type": "code",
   "execution_count": 20,
   "id": "2b228182-e643-4483-98a7-76511da309ac",
   "metadata": {},
   "outputs": [],
   "source": [
    "full_transaction_df.to_csv(\"./data/full/transaction.csv\", index=False)\n",
    "incremental_transaction_df.to_csv(\"./data/incremental/transaction.csv\", index=False)"
   ]
  },
  {
   "cell_type": "markdown",
   "id": "37060c99-b8ae-471f-a5fb-33c8e248bfd5",
   "metadata": {},
   "source": [
    "# Relationships\n",
    "## MADE_TRANSACTION"
   ]
  },
  {
   "cell_type": "markdown",
   "id": "e296bbc7-0df2-4906-90e8-bbe3b8adc1ce",
   "metadata": {},
   "source": [
    "The word in parenthesis after `:START_ID` and `:END_ID` tells `neo4j-admin import` which namespace to look up the ID in."
   ]
  },
  {
   "cell_type": "code",
   "execution_count": 21,
   "id": "869288a8-6cfd-4e47-9f35-0e33c12e7525",
   "metadata": {},
   "outputs": [],
   "source": [
    "def prep_made_transaction(data_df):\n",
    "    made_transaction_df = data_df.loc[:, [\"transactionId\", \"reportingOwnerName\"]]\n",
    "    made_transaction_df.columns = [':END_ID(Transaction)',':START_ID(Owner)']\n",
    "    made_transaction_df[':TYPE'] = \"MADE_TRANSACTION\"\n",
    "    return made_transaction_df"
   ]
  },
  {
   "cell_type": "code",
   "execution_count": 22,
   "id": "41d09a95-e545-4a89-83b9-93f88791c8ad",
   "metadata": {},
   "outputs": [],
   "source": [
    "full_made_transaction_df = prep_made_transaction(full_df)\n",
    "incremental_made_transaction_df = prep_made_transaction(incremental_df)"
   ]
  },
  {
   "cell_type": "code",
   "execution_count": 23,
   "id": "2182101b-9712-4d69-9af5-267837c6258f",
   "metadata": {},
   "outputs": [
    {
     "data": {
      "text/html": [
       "<div>\n",
       "<style scoped>\n",
       "    .dataframe tbody tr th:only-of-type {\n",
       "        vertical-align: middle;\n",
       "    }\n",
       "\n",
       "    .dataframe tbody tr th {\n",
       "        vertical-align: top;\n",
       "    }\n",
       "\n",
       "    .dataframe thead th {\n",
       "        text-align: right;\n",
       "    }\n",
       "</style>\n",
       "<table border=\"1\" class=\"dataframe\">\n",
       "  <thead>\n",
       "    <tr style=\"text-align: right;\">\n",
       "      <th></th>\n",
       "      <th>:END_ID(Transaction)</th>\n",
       "      <th>:START_ID(Owner)</th>\n",
       "      <th>:TYPE</th>\n",
       "    </tr>\n",
       "  </thead>\n",
       "  <tbody>\n",
       "    <tr>\n",
       "      <th>0</th>\n",
       "      <td>0</td>\n",
       "      <td>Brady Stephen R</td>\n",
       "      <td>MADE_TRANSACTION</td>\n",
       "    </tr>\n",
       "    <tr>\n",
       "      <th>1</th>\n",
       "      <td>1</td>\n",
       "      <td>Volovic Gregory S</td>\n",
       "      <td>MADE_TRANSACTION</td>\n",
       "    </tr>\n",
       "    <tr>\n",
       "      <th>2</th>\n",
       "      <td>2</td>\n",
       "      <td>McClelland Sonja K</td>\n",
       "      <td>MADE_TRANSACTION</td>\n",
       "    </tr>\n",
       "    <tr>\n",
       "      <th>3</th>\n",
       "      <td>3</td>\n",
       "      <td>McClelland Sonja K</td>\n",
       "      <td>MADE_TRANSACTION</td>\n",
       "    </tr>\n",
       "    <tr>\n",
       "      <th>4</th>\n",
       "      <td>4</td>\n",
       "      <td>Donlon John P.</td>\n",
       "      <td>MADE_TRANSACTION</td>\n",
       "    </tr>\n",
       "  </tbody>\n",
       "</table>\n",
       "</div>"
      ],
      "text/plain": [
       "   :END_ID(Transaction)    :START_ID(Owner)             :TYPE\n",
       "0                     0     Brady Stephen R  MADE_TRANSACTION\n",
       "1                     1   Volovic Gregory S  MADE_TRANSACTION\n",
       "2                     2  McClelland Sonja K  MADE_TRANSACTION\n",
       "3                     3  McClelland Sonja K  MADE_TRANSACTION\n",
       "4                     4      Donlon John P.  MADE_TRANSACTION"
      ]
     },
     "execution_count": 23,
     "metadata": {},
     "output_type": "execute_result"
    }
   ],
   "source": [
    "full_made_transaction_df.head()"
   ]
  },
  {
   "cell_type": "code",
   "execution_count": 24,
   "id": "b8dfe6cc-0a68-4ddb-8b7a-88f9ceeea3b8",
   "metadata": {},
   "outputs": [],
   "source": [
    "full_made_transaction_df.to_csv(\"./data/full/made_transaction.csv\", index=False)\n",
    "incremental_made_transaction_df.to_csv(\"./data/incremental/made_transaction.csv\", index=False)"
   ]
  },
  {
   "cell_type": "markdown",
   "id": "8a963374-e63b-4f4b-8548-f8999d476e73",
   "metadata": {},
   "source": [
    "## FOR_COMPANY"
   ]
  },
  {
   "cell_type": "code",
   "execution_count": 25,
   "id": "0a164722-f3e6-449a-91d8-7302e3ab76ab",
   "metadata": {},
   "outputs": [],
   "source": [
    "def prep_for_company(data_df):\n",
    "    for_company_df = data_df.loc[:, [\"transactionId\", \"issuerTradingSymbol\"]]\n",
    "    for_company_df.columns = [':START_ID(Transaction)', ':END_ID(Company)']\n",
    "    for_company_df[':TYPE'] = \"FOR_COMPANY\"\n",
    "    return for_company_df"
   ]
  },
  {
   "cell_type": "code",
   "execution_count": 26,
   "id": "88018c8a-3164-4efe-a029-ae800f42df93",
   "metadata": {},
   "outputs": [],
   "source": [
    "full_for_company_df = prep_for_company(full_df)\n",
    "incremental_for_company_df = prep_for_company(incremental_df)"
   ]
  },
  {
   "cell_type": "code",
   "execution_count": 27,
   "id": "4b638160-e4fc-4f4f-8330-a6dd8b89050c",
   "metadata": {},
   "outputs": [
    {
     "data": {
      "text/html": [
       "<div>\n",
       "<style scoped>\n",
       "    .dataframe tbody tr th:only-of-type {\n",
       "        vertical-align: middle;\n",
       "    }\n",
       "\n",
       "    .dataframe tbody tr th {\n",
       "        vertical-align: top;\n",
       "    }\n",
       "\n",
       "    .dataframe thead th {\n",
       "        text-align: right;\n",
       "    }\n",
       "</style>\n",
       "<table border=\"1\" class=\"dataframe\">\n",
       "  <thead>\n",
       "    <tr style=\"text-align: right;\">\n",
       "      <th></th>\n",
       "      <th>:START_ID(Transaction)</th>\n",
       "      <th>:END_ID(Company)</th>\n",
       "      <th>:TYPE</th>\n",
       "    </tr>\n",
       "  </thead>\n",
       "  <tbody>\n",
       "    <tr>\n",
       "      <th>0</th>\n",
       "      <td>0</td>\n",
       "      <td>IMDZ</td>\n",
       "      <td>FOR_COMPANY</td>\n",
       "    </tr>\n",
       "    <tr>\n",
       "      <th>1</th>\n",
       "      <td>1</td>\n",
       "      <td>HURC</td>\n",
       "      <td>FOR_COMPANY</td>\n",
       "    </tr>\n",
       "    <tr>\n",
       "      <th>2</th>\n",
       "      <td>2</td>\n",
       "      <td>HURC</td>\n",
       "      <td>FOR_COMPANY</td>\n",
       "    </tr>\n",
       "    <tr>\n",
       "      <th>3</th>\n",
       "      <td>3</td>\n",
       "      <td>HURC</td>\n",
       "      <td>FOR_COMPANY</td>\n",
       "    </tr>\n",
       "    <tr>\n",
       "      <th>4</th>\n",
       "      <td>4</td>\n",
       "      <td>HURC</td>\n",
       "      <td>FOR_COMPANY</td>\n",
       "    </tr>\n",
       "  </tbody>\n",
       "</table>\n",
       "</div>"
      ],
      "text/plain": [
       "   :START_ID(Transaction) :END_ID(Company)        :TYPE\n",
       "0                       0             IMDZ  FOR_COMPANY\n",
       "1                       1             HURC  FOR_COMPANY\n",
       "2                       2             HURC  FOR_COMPANY\n",
       "3                       3             HURC  FOR_COMPANY\n",
       "4                       4             HURC  FOR_COMPANY"
      ]
     },
     "execution_count": 27,
     "metadata": {},
     "output_type": "execute_result"
    }
   ],
   "source": [
    "full_for_company_df.head()"
   ]
  },
  {
   "cell_type": "code",
   "execution_count": 28,
   "id": "d232d6f8-5578-4cce-9b40-bd0d1bb3e128",
   "metadata": {},
   "outputs": [],
   "source": [
    "full_for_company_df.to_csv(\"./data/full/for_company.csv\", index=False)\n",
    "incremental_for_company_df.to_csv(\"./data/incremental/for_company.csv\", index=False)"
   ]
  },
  {
   "cell_type": "markdown",
   "id": "8d720e73-adc6-46fa-a4d5-606aea79b159",
   "metadata": {},
   "source": [
    "# Copy files to import directory"
   ]
  },
  {
   "cell_type": "markdown",
   "id": "4502763f-2aec-4f50-8327-062380bba58e",
   "metadata": {},
   "source": [
    "The path below is the neo4j_home directory for my Neo4j desktop instance. To find the location of your neo4j_home, \n",
    "you can run this query.\n",
    "```\n",
    "CALL dbms.listConfig() YIELD name, value \n",
    "WHERE name = \"server.directories.neo4j_home\"\n",
    "RETURN value\n",
    "```"
   ]
  },
  {
   "cell_type": "code",
   "execution_count": 29,
   "id": "9318da21-6ff2-4548-9639-0335050efeb5",
   "metadata": {},
   "outputs": [],
   "source": [
    "desktop_location = \"/Users/nathansmith/Library/Application Support/Neo4j Desktop/\"\\\n",
    "                   \"Application/relate-data/dbmss/dbms-915b370f-4832-433d-b2d1-cea3f375a986\"\n",
    "desktop_db_home_dir = Path(desktop_location)"
   ]
  },
  {
   "cell_type": "code",
   "execution_count": 30,
   "id": "2bc44964-0b88-4d85-b0c9-e4c6c9a762de",
   "metadata": {},
   "outputs": [],
   "source": [
    "full_import_dir = desktop_db_home_dir.joinpath(\"import/full\")\n",
    "incremental_import_dir = desktop_db_home_dir.joinpath(\"import/incremental\")"
   ]
  },
  {
   "cell_type": "code",
   "execution_count": 31,
   "id": "0a6e3bd2-9ca0-495e-8b20-17a8e52e26ad",
   "metadata": {},
   "outputs": [],
   "source": [
    "full_import_dir.mkdir(parents=True, exist_ok=True)\n",
    "incremental_import_dir.mkdir(parents=True, exist_ok=True)"
   ]
  },
  {
   "cell_type": "code",
   "execution_count": 32,
   "id": "1aacd3f4-5a7e-4517-a32b-0c8479f63439",
   "metadata": {},
   "outputs": [
    {
     "data": {
      "text/plain": [
       "0"
      ]
     },
     "execution_count": 32,
     "metadata": {},
     "output_type": "execute_result"
    }
   ],
   "source": [
    "os.system(f'cp ./data/full/*.csv \"{full_import_dir}\"')\n",
    "os.system(f'cp ./data/incremental/*.csv \"{incremental_import_dir}\"')"
   ]
  },
  {
   "cell_type": "markdown",
   "id": "6844aaf6-d925-4d3e-bf05-b0a7ebff4291",
   "metadata": {},
   "source": [
    "# Execute full import"
   ]
  },
  {
   "cell_type": "code",
   "execution_count": 33,
   "id": "421d444b-f8ec-49ea-bc25-90d140f51614",
   "metadata": {},
   "outputs": [],
   "source": [
    "os.chdir(desktop_db_home_dir)"
   ]
  },
  {
   "cell_type": "markdown",
   "id": "c7dc8081-0769-4c5c-af0f-27460dd21d01",
   "metadata": {},
   "source": [
    "In case Neo4j is not running, start it up."
   ]
  },
  {
   "cell_type": "code",
   "execution_count": 34,
   "id": "27ae7195-5488-4c5e-887c-df7f48b7fc3c",
   "metadata": {},
   "outputs": [
    {
     "name": "stdout",
     "output_type": "stream",
     "text": [
      "Configuration file validation successful (with warnings).\n"
     ]
    },
    {
     "name": "stderr",
     "output_type": "stream",
     "text": [
      "Validating Neo4j configuration: /Users/nathansmith/Library/Application Support/Neo4j Desktop/Application/relate-data/dbmss/dbms-915b370f-4832-433d-b2d1-cea3f375a986/conf/neo4j.conf\n",
      "5 issues found.\n",
      "Warning: Use of deprecated setting 'dbms.backup.enabled'. It is replaced by 'server.backup.enabled'.\n",
      "Warning: Use of deprecated setting 'dbms.jvm.additional'. It is replaced by 'server.jvm.additional'.\n",
      "Warning: Use of deprecated setting 'dbms.memory.pagecache.size'. It is replaced by 'server.memory.pagecache.size'.\n",
      "Warning: Use of deprecated setting 'dbms.memory.heap.max_size'. It is replaced by 'server.memory.heap.max_size'.\n",
      "Warning: Use of deprecated setting 'dbms.memory.heap.initial_size'. It is replaced by 'server.memory.heap.initial_size'.\n",
      "\n",
      "Validating user Log4j configuration: /Users/nathansmith/Library/Application Support/Neo4j Desktop/Application/relate-data/dbmss/dbms-915b370f-4832-433d-b2d1-cea3f375a986/conf/user-logs.xml\n",
      "No issues found.\n",
      "\n",
      "Validating server Log4j configuration: /Users/nathansmith/Library/Application Support/Neo4j Desktop/Application/relate-data/dbmss/dbms-915b370f-4832-433d-b2d1-cea3f375a986/conf/server-logs.xml\n",
      "No issues found.\n",
      "\n",
      "Neo4j is already running (pid:1317).\n",
      "Run with '--verbose' for a more detailed error message.\n"
     ]
    },
    {
     "data": {
      "text/plain": [
       "256"
      ]
     },
     "execution_count": 34,
     "metadata": {},
     "output_type": "execute_result"
    }
   ],
   "source": [
    "os.system(\"./bin/neo4j-admin server start\")"
   ]
  },
  {
   "cell_type": "markdown",
   "id": "5fca2913-14a8-4ea8-b18a-175c04fd5e86",
   "metadata": {},
   "source": [
    "Use getpass to avoid storing the password in the notebook in plain text."
   ]
  },
  {
   "cell_type": "code",
   "execution_count": 35,
   "id": "0ceae0d0-ced3-470a-8496-ef451f36e4cb",
   "metadata": {},
   "outputs": [
    {
     "name": "stdout",
     "output_type": "stream",
     "text": [
      "········\n"
     ]
    }
   ],
   "source": [
    "password = getpass()"
   ]
  },
  {
   "cell_type": "markdown",
   "id": "d8e2deda-3ff8-43bd-88f3-cd6da35e850a",
   "metadata": {},
   "source": [
    "The database should not exist before doing a full import. If it does exist, drop it before executing the import script. This notebook uses cypher-shell to run Cypher queries through the command line. You could use the [Neo4j Python driver](https://neo4j.com/docs/api/python-driver/current/) to execute these queries, or you could run them in Neo4j Browser."
   ]
  },
  {
   "cell_type": "code",
   "execution_count": 36,
   "id": "0cad2f15-23f3-4a2a-9f3d-ae2181c110ae",
   "metadata": {},
   "outputs": [
    {
     "data": {
      "text/plain": [
       "0"
      ]
     },
     "execution_count": 36,
     "metadata": {},
     "output_type": "execute_result"
    }
   ],
   "source": [
    "os.system(f'./bin/cypher-shell -u neo4j -p {password} \"DROP DATABASE insiderdb\"')"
   ]
  },
  {
   "cell_type": "markdown",
   "id": "13d067fb-9012-4e2a-b2c3-08f9f4bad4ce",
   "metadata": {},
   "source": [
    "The command specifies that we are doing a full import. The last argment in the command is the name of the database that will be created."
   ]
  },
  {
   "cell_type": "code",
   "execution_count": 37,
   "id": "85d3ccad-9094-4a97-90e0-4eabb94e4bf1",
   "metadata": {},
   "outputs": [],
   "source": [
    "command = (\"./bin/neo4j-admin database import full \"\n",
    "           \"--nodes import/full/company.csv --nodes import/full/owner.csv --nodes import/full/transaction.csv \"\n",
    "           \"--relationships import/full/made_transaction.csv --relationships import/full/for_company.csv \"\n",
    "           \"insiderdb\")"
   ]
  },
  {
   "cell_type": "code",
   "execution_count": 38,
   "id": "0829f9ab-aff4-4277-a515-ee1038a05eaa",
   "metadata": {},
   "outputs": [
    {
     "name": "stdout",
     "output_type": "stream",
     "text": [
      "./bin/neo4j-admin database import full --nodes import/full/company.csv --nodes import/full/owner.csv --nodes import/full/transaction.csv --relationships import/full/made_transaction.csv --relationships import/full/for_company.csv insiderdb\n"
     ]
    }
   ],
   "source": [
    "print(command)"
   ]
  },
  {
   "cell_type": "code",
   "execution_count": 39,
   "id": "6bc32841-fc11-45a6-a763-4717f8137009",
   "metadata": {},
   "outputs": [
    {
     "name": "stdout",
     "output_type": "stream",
     "text": [
      "Neo4j version: 5.8.0\n",
      "Importing the contents of these files into /Users/nathansmith/Library/Application Support/Neo4j Desktop/Application/relate-data/dbmss/dbms-915b370f-4832-433d-b2d1-cea3f375a986/data/databases/insiderdb:\n",
      "Nodes:\n",
      "  /Users/nathansmith/Library/Application Support/Neo4j Desktop/Application/relate-data/dbmss/dbms-915b370f-4832-433d-b2d1-cea3f375a986/import/full/company.csv\n",
      "  /Users/nathansmith/Library/Application Support/Neo4j Desktop/Application/relate-data/dbmss/dbms-915b370f-4832-433d-b2d1-cea3f375a986/import/full/owner.csv\n",
      "  /Users/nathansmith/Library/Application Support/Neo4j Desktop/Application/relate-data/dbmss/dbms-915b370f-4832-433d-b2d1-cea3f375a986/import/full/transaction.csv\n",
      "\n",
      "Relationships:\n",
      "  /Users/nathansmith/Library/Application Support/Neo4j Desktop/Application/relate-data/dbmss/dbms-915b370f-4832-433d-b2d1-cea3f375a986/import/full/made_transaction.csv\n",
      "  /Users/nathansmith/Library/Application Support/Neo4j Desktop/Application/relate-data/dbmss/dbms-915b370f-4832-433d-b2d1-cea3f375a986/import/full/for_company.csv\n",
      "\n",
      "\n",
      "Available resources:\n",
      "  Total machine memory: 32.00GiB\n",
      "  Free machine memory: 8.137GiB\n",
      "  Max heap memory : 910.5MiB\n",
      "  Max worker threads: 8\n",
      "  Configured max memory: 6.732GiB\n",
      "  High parallel IO: true\n",
      "\n"
     ]
    },
    {
     "name": "stderr",
     "output_type": "stream",
     "text": [
      "WARNING: heap size 910.5MiB may be too small to complete this import. Suggested heap size is 1.000GiB"
     ]
    },
    {
     "name": "stdout",
     "output_type": "stream",
     "text": [
      "\n",
      "Import starting 2023-05-25 08:26:29.166-0500\n",
      "  Estimated number of nodes: 30.33 k\n",
      "  Estimated number of node properties: 197.45 k\n",
      "  Estimated number of relationships: 40.00 k\n",
      "  Estimated number of relationship properties: 0.00 \n",
      "  Estimated disk space usage: 6.342MiB\n",
      "  Estimated required memory usage: 510.4MiB\n",
      "\n",
      "(1/4) Node import 2023-05-25 08:26:30.426-0500\n",
      "  Estimated number of nodes: 30.33 k\n",
      "  Estimated disk space usage: 5.045MiB\n",
      "  Estimated required memory usage: 510.4MiB\n",
      ".......... .......... .......... .......... ..........   5% ∆209ms\n",
      ".......... .......... .......... .......... ..........  10% ∆1ms\n",
      ".........- .......... .......... .......... ..........  15% ∆117ms\n",
      ".......... .......... .......... .......... ..........  20% ∆0ms\n",
      ".......... .......... .......... .......... ..........  25% ∆1ms\n",
      ".......... .......... .......... .......... ..........  30% ∆0ms\n",
      ".......... .......... .......... .......... ..........  35% ∆0ms\n",
      ".......... .......... .......... .......... ..........  40% ∆1ms\n",
      ".......... .......... .......... .......... ..........  45% ∆0ms\n",
      ".......... .......... .......... .......... ..........  50% ∆0ms\n",
      ".......... .......... .......... .......... ..........  55% ∆1ms\n",
      ".......... .......... .......... .......... ..........  60% ∆0ms\n",
      ".......... .......... .......... .......... ..........  65% ∆0ms\n",
      ".......... .......... .......... .......... ..........  70% ∆0ms\n",
      ".......... .......... .......... .......... ..........  75% ∆0ms\n",
      ".......... .......... .......... .......... ..........  80% ∆1ms\n",
      ".......... .......... .......... .......... ..........  85% ∆0ms\n",
      ".......... .......... .......... .......... ..........  90% ∆0ms\n",
      ".......... .......... .......... .......... ..........  95% ∆0ms\n",
      ".......... .......... .......... .......... .......... 100% ∆0ms\n",
      "\n",
      "Node import COMPLETED in 609ms\n",
      "\n",
      "(2/4) Relationship import 2023-05-25 08:26:31.036-0500\n",
      "  Estimated number of relationships: 40.00 k\n",
      "  Estimated disk space usage: 1.297MiB\n",
      "  Estimated required memory usage: 517.7MiB\n",
      ".......... .......... .......... .......... ..........   5% ∆1s 391ms\n",
      ".......... .......... .......... .......... ..........  10% ∆0ms\n",
      ".......... .......... .......... .......... ..........  15% ∆0ms\n",
      ".......... .......... .......... .......... ..........  20% ∆1ms\n",
      ".......... .......... .......... .......... ..........  25% ∆0ms\n",
      ".......... .......... .......... .......... ..........  30% ∆0ms\n",
      ".......... .......... .......... .......... ..........  35% ∆0ms\n",
      ".......... .......... .......... .......... ..........  40% ∆0ms\n",
      ".......... .......... .......... .......... ..........  45% ∆1ms\n",
      ".......... .......... .......... .......... ..........  50% ∆0ms\n",
      ".......... .......... .......... .......... ..........  55% ∆0ms\n",
      ".......... .......... .......... .......... ..........  60% ∆1ms\n",
      ".......... .......... .......... .......... ..........  65% ∆0ms\n",
      ".......... .......... .......... .......... ..........  70% ∆0ms\n",
      ".......... .......... .......... .......... ..........  75% ∆0ms\n",
      ".......... .......... .......... .......... ..........  80% ∆1ms\n",
      ".......... .......... .......... .......... ..........  85% ∆0ms\n",
      ".......... .......... .......... .......... ..........  90% ∆0ms\n",
      ".......... .......... .......... .......... ..........  95% ∆0ms\n",
      ".......... .......... .......... .......... .......... 100% ∆0ms\n",
      "\n",
      "Relationship import COMPLETED in 1s 395ms\n",
      "\n",
      "(3/4) Relationship linking 2023-05-25 08:26:32.431-0500\n",
      "  Estimated required memory usage: 510.3MiB\n",
      "-......... .......... .......... .......... ..........   5% ∆871ms\n",
      ".......... .......... .......... .......... ..........  10% ∆0ms\n",
      ".......... .......... .......... .......... ..........  15% ∆0ms\n",
      ".......... .......... .......... .......... ..........  20% ∆0ms\n",
      ".......... .......... .......... .......... ..........  25% ∆1ms\n",
      ".......... .......... .......... .......... ..........  30% ∆0ms\n",
      ".......... .......... .......... .......... ..........  35% ∆0ms\n",
      ".......... .......... .......... .......... ..........  40% ∆0ms\n",
      ".......... .......... .......... .......... ..........  45% ∆0ms\n",
      ".......... .......... .......... .......... ..........  50% ∆0ms\n",
      ".......... .......... .......... .......... ..........  55% ∆0ms\n",
      ".......... .......... .......... .......... ..........  60% ∆0ms\n",
      ".......... .......... .......... .......... ..........  65% ∆1ms\n",
      ".......... .......... .......... .......... ..........  70% ∆0ms\n",
      ".......... .......... .......... .......... ..........  75% ∆0ms\n",
      ".......... .......... .......... .......... ..........  80% ∆0ms\n",
      ".......... .......... .......... .......... ..........  85% ∆0ms\n",
      ".......... .......... .......... .......... ..........  90% ∆0ms\n",
      ".......... .......... .......... .......... ..........  95% ∆0ms\n",
      ".......... .......... .......... .......... .......... 100% ∆1ms\n",
      "\n",
      "Relationship linking COMPLETED in 1s 111ms\n",
      "\n",
      "(4/4) Post processing 2023-05-25 08:26:33.542-0500\n",
      "  Estimated required memory usage: 510.0MiB\n",
      "-......... .......... .......... .......... ..........   5% ∆843ms\n",
      ".......... .......... .......... .......... ..........  10% ∆0ms\n",
      ".......... .......... .......... .......... ..........  15% ∆0ms\n",
      ".......... .......... .......... .......... ..........  20% ∆1ms\n",
      ".......... .......... .......... .......... ..........  25% ∆0ms\n",
      ".......... .......... .......... .......... ..........  30% ∆0ms\n",
      ".......... .......... .......... .......... ..........  35% ∆0ms\n",
      ".......... .......... .......... .......... ..........  40% ∆0ms\n",
      ".......... .......... .......... .......... ..........  45% ∆0ms\n",
      ".......... .......... .......... .......... ..........  50% ∆0ms\n",
      ".......... .......... .......... .......... ..........  55% ∆1ms\n",
      ".......... .......... .......... .......... ..........  60% ∆0ms\n",
      ".......... .......... .......... .......... ..........  65% ∆0ms\n",
      ".......... .......... .......... .......... ..........  70% ∆0ms\n",
      ".......... .......... .......... .......... ..........  75% ∆0ms\n",
      ".......... .......... .......... .......... ..........  80% ∆0ms\n",
      ".......... .......... .......... .......... ..........  85% ∆0ms\n",
      ".......... .......... .......... .......... ..........  90% ∆1ms\n",
      ".......... .......... .......... .......... ..........  95% ∆0ms\n",
      ".......... .......... .......... .......... .......... 100% ∆0ms\n",
      "\n",
      "Post processing COMPLETED in 2s 130ms\n",
      "\n",
      "\n",
      "IMPORT DONE in 6s 965ms. \n",
      "Imported:\n",
      "  30325 nodes\n",
      "  40000 relationships\n",
      "  197430 properties\n",
      "Peak memory usage: 547.5MiB\n"
     ]
    },
    {
     "data": {
      "text/plain": [
       "0"
      ]
     },
     "execution_count": 39,
     "metadata": {},
     "output_type": "execute_result"
    }
   ],
   "source": [
    "os.system(command)"
   ]
  },
  {
   "cell_type": "markdown",
   "id": "f0e85bf7-b256-48a2-902a-0dcf52d65def",
   "metadata": {},
   "source": [
    "# Validate full import"
   ]
  },
  {
   "cell_type": "markdown",
   "id": "5a17e016-5da8-4b2c-b74a-7ff02ed71895",
   "metadata": {},
   "source": [
    "The data for the learndb database has been loaded in to the Neo4j data store, but you have to run create database to update the systemdb before you can use the database."
   ]
  },
  {
   "cell_type": "code",
   "execution_count": 40,
   "id": "85a8e5a5-dd16-4091-bddc-813f566179e3",
   "metadata": {},
   "outputs": [
    {
     "data": {
      "text/plain": [
       "0"
      ]
     },
     "execution_count": 40,
     "metadata": {},
     "output_type": "execute_result"
    }
   ],
   "source": [
    "os.system(f'./bin/cypher-shell -u neo4j -p {password} \"CREATE DATABASE insiderdb\"')"
   ]
  },
  {
   "cell_type": "code",
   "execution_count": 41,
   "id": "084bf6d1-b8fc-4ba5-abe2-c3ef51361743",
   "metadata": {},
   "outputs": [
    {
     "name": "stdout",
     "output_type": "stream",
     "text": [
      "label, nodeCount\n",
      "[\"Owner\"], 7904\n",
      "[\"Company\"], 2421\n",
      "[\"Transaction\"], 20000\n"
     ]
    },
    {
     "data": {
      "text/plain": [
       "0"
      ]
     },
     "execution_count": 41,
     "metadata": {},
     "output_type": "execute_result"
    }
   ],
   "source": [
    "os.system(f'./bin/cypher-shell -u neo4j -p {password} -d insiderdb '\n",
    "          '\"MATCH (n) RETURN labels(n) AS label, count(*) AS nodeCount\"')"
   ]
  },
  {
   "cell_type": "code",
   "execution_count": 42,
   "id": "4a16bc66-edf3-4b2c-b997-064c3b76d1e4",
   "metadata": {},
   "outputs": [
    {
     "name": "stdout",
     "output_type": "stream",
     "text": [
      "type, relationshipCount\n",
      "\"MADE_TRANSACTION\", 20000\n",
      "\"FOR_COMPANY\", 20000\n"
     ]
    },
    {
     "data": {
      "text/plain": [
       "0"
      ]
     },
     "execution_count": 42,
     "metadata": {},
     "output_type": "execute_result"
    }
   ],
   "source": [
    "os.system(f'./bin/cypher-shell -u neo4j -p {password} -d insiderdb '\n",
    "          '\"MATCH ()-[r]->() RETURN type(r) AS type, count(*) AS relationshipCount\"')"
   ]
  },
  {
   "cell_type": "markdown",
   "id": "f4f15ab5-fdf8-46e0-af9e-b081fa50e5c1",
   "metadata": {},
   "source": [
    "# Execute incremental import"
   ]
  },
  {
   "cell_type": "markdown",
   "id": "b58cbc5f-ab53-4a25-8965-2215d7cbbe5a",
   "metadata": {},
   "source": [
    "We need uniqueness constraints on the node properties before we can do an incremental import. These scripts create them. You could use a uniqueness constraint or a node key, since node key implies uniqueness."
   ]
  },
  {
   "cell_type": "code",
   "execution_count": 43,
   "id": "1a13e0ef-f355-448a-a8b6-3e84545c33c9",
   "metadata": {},
   "outputs": [],
   "source": [
    "key_constraints = [\"CREATE CONSTRAINT company_node_key IF NOT EXISTS FOR (c:Company) \"\n",
    "                   \"REQUIRE c.issuerTradingSymbol IS NODE KEY\",\n",
    "                   \"CREATE CONSTRAINT owner_node_key IF NOT EXISTS FOR (o:Owner) \"\n",
    "                   \"REQUIRE o.reportingOwnerName IS NODE KEY\",\n",
    "                   \"CREATE CONSTRAINT transaction_node_key IF NOT EXISTS FOR (t:Transaction) \"\n",
    "                   \"REQUIRE t.transactionId IS NODE KEY\"]                   "
   ]
  },
  {
   "cell_type": "code",
   "execution_count": 44,
   "id": "8d54db85-637f-4df2-adbe-dbeaa399c8ab",
   "metadata": {},
   "outputs": [],
   "source": [
    "for command in key_constraints:\n",
    "    os.system(f'./bin/cypher-shell -u neo4j -p {password} -d insiderdb \"{command}\"')"
   ]
  },
  {
   "cell_type": "markdown",
   "id": "73f03627-233a-4195-9571-bcd80b2f8c4d",
   "metadata": {},
   "source": [
    "The database must be stopped during the incremental import."
   ]
  },
  {
   "cell_type": "code",
   "execution_count": 45,
   "id": "4196f672-2a61-4dfd-9545-678cc2c20a32",
   "metadata": {},
   "outputs": [
    {
     "name": "stdout",
     "output_type": "stream",
     "text": [
      "address, state, message, success\n",
      "\"localhost:7687\", \"CaughtUp\", \"caught up\", TRUE\n"
     ]
    },
    {
     "data": {
      "text/plain": [
       "0"
      ]
     },
     "execution_count": 45,
     "metadata": {},
     "output_type": "execute_result"
    }
   ],
   "source": [
    "os.system(f'./bin/cypher-shell -u neo4j -p {password} \"STOP DATABASE insiderdb WAIT\"')"
   ]
  },
  {
   "cell_type": "markdown",
   "id": "bbace33a-16cb-4a24-a87f-0af0b901a712",
   "metadata": {},
   "source": [
    "In this command, we specify that we are dong incremental. `--force` is a required argument for incremental updates. `--stage=all` says to perform all the incremental import stages at once. The database must be stopped to run in this mode. It is possible to run some stages of the incremental import with the database online in read-only mode. This might be helpful for very large incremental imports. See the [documentation](https://neo4j.com/docs/operations-manual/current/tools/neo4j-admin/neo4j-admin-import/#import-tool-incremental-examples) for more information."
   ]
  },
  {
   "cell_type": "code",
   "execution_count": 46,
   "id": "c8b48adc-7a96-40a4-8bd4-2716291985d8",
   "metadata": {},
   "outputs": [],
   "source": [
    "command = (\"./bin/neo4j-admin database import incremental --force --verbose \" \n",
    "           \"--stage=all \"\n",
    "           \"--nodes=import/incremental/company.csv --nodes=import/incremental/owner.csv \"\n",
    "           \"--nodes=import/incremental/transaction.csv \"\n",
    "           \"--relationships=import/incremental/made_transaction.csv \"\n",
    "           \"--relationships=import/incremental/for_company.csv \"\n",
    "           \"insiderdb\")"
   ]
  },
  {
   "cell_type": "code",
   "execution_count": 47,
   "id": "93954ad9-5398-43b7-8e16-b1a62a9f6498",
   "metadata": {},
   "outputs": [
    {
     "name": "stdout",
     "output_type": "stream",
     "text": [
      "./bin/neo4j-admin database import incremental --force --verbose --stage=all --nodes=import/incremental/company.csv --nodes=import/incremental/owner.csv --nodes=import/incremental/transaction.csv --relationships=import/incremental/made_transaction.csv --relationships=import/incremental/for_company.csv insiderdb\n"
     ]
    }
   ],
   "source": [
    "print(command)"
   ]
  },
  {
   "cell_type": "code",
   "execution_count": 48,
   "id": "f94cc8f5-927d-4751-ac5f-f940ece088da",
   "metadata": {},
   "outputs": [
    {
     "name": "stdout",
     "output_type": "stream",
     "text": [
      "Executing command line: /Library/Java/JavaVirtualMachines/temurin-17.jdk/Contents/Home/bin/java -cp /Users/nathansmith/Library/Application Support/Neo4j Desktop/Application/relate-data/dbmss/dbms-915b370f-4832-433d-b2d1-cea3f375a986/plugins/*:/Users/nathansmith/Library/Application Support/Neo4j Desktop/Application/relate-data/dbmss/dbms-915b370f-4832-433d-b2d1-cea3f375a986/conf/*:/Users/nathansmith/Library/Application Support/Neo4j Desktop/Application/relate-data/dbmss/dbms-915b370f-4832-433d-b2d1-cea3f375a986/lib/* -XX:+UseParallelGC -XX:-OmitStackTraceInFastThrow -XX:+UnlockExperimentalVMOptions -XX:+TrustFinalNonStaticFields -XX:+DisableExplicitGC -Djdk.nio.maxCachedBufferSize=1024 -Dio.netty.tryReflectionSetAccessible=true -XX:+ExitOnOutOfMemoryError -Djdk.tls.ephemeralDHKeySize=2048 -XX:FlightRecorderOptions=stackdepth=256 -XX:+UnlockDiagnosticVMOptions -XX:+DebugNonSafepoints --add-opens=java.base/java.nio=ALL-UNNAMED --add-opens=java.base/java.io=ALL-UNNAMED --add-opens=java.base/sun.nio.ch=ALL-UNNAMED -Dlog4j2.disable.jmx=true -Dfile.encoding=UTF-8 -Xmx1048576k org.neo4j.cli.AdminTool database import incremental --force --stage=all --nodes=import/incremental/company.csv --nodes=import/incremental/owner.csv --nodes=import/incremental/transaction.csv --relationships=import/incremental/made_transaction.csv --relationships=import/incremental/for_company.csv insiderdb --verbose\n",
      "neo4j 5.8.0\n",
      "VM Name: OpenJDK 64-Bit Server VM\n",
      "VM Vendor: Eclipse Adoptium\n",
      "VM Version: 17.0.4.1+1\n",
      "JIT compiler: HotSpot 64-Bit Tiered Compilers\n",
      "VM Arguments: [-XX:+UseParallelGC, -XX:-OmitStackTraceInFastThrow, -XX:+UnlockExperimentalVMOptions, -XX:+TrustFinalNonStaticFields, -XX:+DisableExplicitGC, -Djdk.nio.maxCachedBufferSize=1024, -Dio.netty.tryReflectionSetAccessible=true, -XX:+ExitOnOutOfMemoryError, -Djdk.tls.ephemeralDHKeySize=2048, -XX:FlightRecorderOptions=stackdepth=256, -XX:+UnlockDiagnosticVMOptions, -XX:+DebugNonSafepoints, --add-opens=java.base/java.nio=ALL-UNNAMED, --add-opens=java.base/java.io=ALL-UNNAMED, --add-opens=java.base/sun.nio.ch=ALL-UNNAMED, -Dlog4j2.disable.jmx=true, -Dfile.encoding=UTF-8, -Xmx1048576k]\n",
      "Configuration files used (ordered by priority):\n",
      "/Users/nathansmith/Library/Application Support/Neo4j Desktop/Application/relate-data/dbmss/dbms-915b370f-4832-433d-b2d1-cea3f375a986/conf/neo4j-admin.conf\n",
      "/Users/nathansmith/Library/Application Support/Neo4j Desktop/Application/relate-data/dbmss/dbms-915b370f-4832-433d-b2d1-cea3f375a986/conf/neo4j.conf\n",
      "--------------------\n",
      "Neo4j version: 5.8.0\n",
      "Importing the contents of these files into /Users/nathansmith/Library/Application Support/Neo4j Desktop/Application/relate-data/dbmss/dbms-915b370f-4832-433d-b2d1-cea3f375a986/data/databases/insiderdb:\n",
      "Import mode: all\n",
      "Nodes:\n",
      "  /Users/nathansmith/Library/Application Support/Neo4j Desktop/Application/relate-data/dbmss/dbms-915b370f-4832-433d-b2d1-cea3f375a986/import/incremental/company.csv\n",
      "  /Users/nathansmith/Library/Application Support/Neo4j Desktop/Application/relate-data/dbmss/dbms-915b370f-4832-433d-b2d1-cea3f375a986/import/incremental/owner.csv\n",
      "  /Users/nathansmith/Library/Application Support/Neo4j Desktop/Application/relate-data/dbmss/dbms-915b370f-4832-433d-b2d1-cea3f375a986/import/incremental/transaction.csv\n",
      "\n",
      "Relationships:\n",
      "  /Users/nathansmith/Library/Application Support/Neo4j Desktop/Application/relate-data/dbmss/dbms-915b370f-4832-433d-b2d1-cea3f375a986/import/incremental/made_transaction.csv\n",
      "  /Users/nathansmith/Library/Application Support/Neo4j Desktop/Application/relate-data/dbmss/dbms-915b370f-4832-433d-b2d1-cea3f375a986/import/incremental/for_company.csv\n",
      "\n",
      "\n",
      "Available resources:\n",
      "  Total machine memory: 32.00GiB\n",
      "  Free machine memory: 8.266GiB\n",
      "  Max heap memory : 910.5MiB\n",
      "  Max worker threads: 8\n",
      "  Configured max memory: 6.759GiB\n",
      "  High parallel IO: true\n",
      "\n"
     ]
    },
    {
     "name": "stderr",
     "output_type": "stream",
     "text": [
      "WARNING: heap size 910.5MiB may be too small to complete this import. Suggested heap size is 1.000GiB"
     ]
    },
    {
     "name": "stdout",
     "output_type": "stream",
     "text": [
      "Nodes, started 2023-05-25 13:26:57.970+0000\n",
      "[*Nodes:?? 510.0MiB---------------------------------------------------------------------------]10.0K ∆10.0K\n",
      "Done in 370ms\n",
      "Prepare node index, started 2023-05-25 13:26:58.967+0000\n",
      "[*:510.0MiB-----------------------------------------------------------------------------------]10.0K ∆10.0K\n",
      "Done in 185ms\n",
      "Relationships, started 2023-05-25 13:26:59.199+0000\n",
      "[*Relationships:?? 510.0MiB-------------------------------------------------------------------]20.0K ∆20.0K\n",
      "Done in 171ms\n",
      "Node Degrees, started 2023-05-25 13:26:59.637+0000\n",
      "[*>---------------------------------------------------|CALCULATE:510.4MiB---------------------] 120K ∆ 120K\n",
      "Done in 26ms\n",
      "Relationship --> Relationship 1-2/2, started 2023-05-25 13:26:59.694+0000\n",
      "[>-----------|*LINK----------------------------------------------------------|v:??------------] 120K ∆ 120K\n",
      "Done in 51ms\n",
      "RelationshipGroup 1-2/2, started 2023-05-25 13:26:59.749+0000\n",
      "[*>----------------------------------------------------------------------------------------|v:] 163K ∆ 163K\n",
      "Done in 7ms\n",
      "Node --> Relationship, started 2023-05-25 13:26:59.760+0000\n",
      "[>:??-------|*>----------------------------------------|LINK---------------|v:??--------------] 273K ∆ 273K\n",
      "Done in 36ms\n",
      "Relationship <-- Relationship 1-2/2, started 2023-05-25 13:26:59.840+0000\n",
      "[*>------------------------------------|LINK---------------------|v:??------------------------] 120K ∆ 120K\n",
      "Done in 33ms\n",
      "Count groups, started 2023-05-25 13:26:59.892+0000\n",
      "[>|*>-----------------------------------------------------------------------------|COUNT:510.1]  327 ∆  327\n",
      "Done in 1ms\n",
      "Gather, started 2023-05-25 13:26:59.909+0000\n",
      "[>|*CACHE:580.1MiB----------------------------------------------------------------------------]  327 ∆  327\n",
      "Done in 32ms\n",
      "Write, started 2023-05-25 13:26:59.945+0000\n",
      "[*>:??-----------------------------------------------------------------------------------|EN|v]  327 ∆  327\n",
      "Done in 4ms\n",
      "Node --> Group, started 2023-05-25 13:26:59.954+0000\n",
      "[>|>-----------------------------|FIRST--------------------|*v:??-----------------------------]  546 ∆  546\n",
      "Done in 1ms\n",
      "Node counts and label index build, started 2023-05-25 13:26:59.978+0000\n",
      "[>------------------|*LABEL INDEX-------------------------|COUNT:510.3MiB---------------------]50.0K ∆50.0K\n",
      "Done in 22ms\n",
      "Relationship counts and relationship type index build, started 2023-05-25 13:27:00.112+0000\n",
      "[>----------------|RELATIONSHIP TYPE INDEX-------------|*COUNT--------------------------------]30.0K ∆30.0K\n",
      "Done in 22ms\n",
      "\n",
      "IMPORT DONE in 2s 750ms. \n",
      "Imported:\n",
      "  13319 nodes\n",
      "  20000 relationships\n",
      "  94402 properties\n",
      "Peak memory usage: 547.6MiB\n",
      "Merge graph into target database\n",
      "..... ............... .......... .......... ..........   5% ∆7ms [7ms]\n",
      "..... ................ .............. .. .............  10% ∆14ms [21ms]\n",
      ".......... .......... .......... .......... ......-...  15% ∆17ms [39ms]\n",
      ".......... .......... .......... .......... ..........  20% ∆3ms [43ms]\n",
      ".......... .......... .......... .......... ..........  25% ∆12ms [56ms]\n",
      ".......... .......... .......... .......... ..........  30% ∆9ms [65ms]\n",
      ".......... .......... .......... .......... ..........  35% ∆2ms [67ms]\n",
      ".......... .......... .......... .......... ..........  40% ∆18ms [85ms]\n",
      ".......... .......... .......... .......... ..........  45% ∆9ms [95ms]\n",
      ".......... .......... .......... .......... ..........  50% ∆6ms [101ms]\n",
      ".......... .......... .......... .......... ..........  55% ∆6ms [108ms]\n",
      ".......... .......... .......... .......... ..........  60% ∆6ms [115ms]\n",
      ".......... .......... .......... -......... ..........  65% ∆29ms [144ms]\n",
      ".......... .......... .......... .......... ..........  70% ∆6ms [151ms]\n",
      ".......... .......... .......... .......... ..........  75% ∆4ms [156ms]\n",
      ".......... .......... .......... .......... ..........  80% ∆6ms [162ms]\n",
      ".......... .......... ..-....... .......... ..........  85% ∆16ms [179ms]\n",
      ".......... .......... .......... .......... ..........  90% ∆7ms [186ms]\n",
      ".......... .......... .......... .....-.... ..........  95% ∆13ms [200ms]\n",
      ".......... .......... .......... .......... .......... 100% ∆3ms [204ms]\n",
      "Merge indexes into target database\n",
      ".......... .......... .......... .......... ..........   5% ∆51ms [51ms]\n",
      ".......... .......... .......... .......... ..........  10% ∆5ms [56ms]\n",
      ".......... .......... .......... .......... ..........  15% ∆5ms [62ms]\n",
      ".......... .......... ..-....... .......... ..........  20% ∆85ms [147ms]\n",
      ".......... .......... .......... .......... ..........  25% ∆2ms [150ms]\n",
      ".......... .......... .......... .......... ..........  30% ∆2ms [153ms]\n",
      ".......... .......... .......... .......... ..........  35% ∆2ms [156ms]\n",
      ".......... .......... .......... .......... ..........  40% ∆2ms [158ms]\n",
      ".......... .......... .........- .......... ..........  45% ∆100ms [259ms]\n",
      ".......... .......... .......... .......... ..........  50% ∆60ms [320ms]\n",
      ".......... .......... .......... .......... ..........  55% ∆0ms [320ms]\n",
      ".......... .......... .......... .......... ..........  60% ∆0ms [320ms]\n",
      ".......... .......... .......... .......... ..........  65% ∆60ms [380ms]\n",
      ".......... .......... .......... .......... ..........  70% ∆0ms [380ms]\n",
      ".......... .......... .......... .......... ..........  75% ∆0ms [381ms]\n",
      ".......... .......... .......... .......... ..........  80% ∆0ms [381ms]\n",
      ".......... .......... .......... .......... ..........  85% ∆0ms [381ms]\n",
      ".......... .......... .......... .......... ..........  90% ∆0ms [381ms]\n",
      ".......... .......... .......... .......... ..........  95% ∆0ms [381ms]\n",
      ".......... .......... .......... .........- .......... 100% ∆0ms [382ms]\n",
      "Merge completed, took 2s 225ms\n",
      "Details:\n",
      "Make nodes same in terms of dense: 29ms\n",
      "Append increment to target: 104ms\n",
      "Prepend relationship chains: 29ms\n",
      "Append relationship chains: 21ms\n",
      "Update nodes with new relationship chain heads: 20ms\n",
      "Merge token stores: 1ms\n",
      "Merge counts store: 24ms\n",
      "Merge lookup index NODE: 44ms\n",
      "Merge lookup index RELATIONSHIP: 35ms\n",
      "Merge other affected indexes: 0ms\n",
      "Flush and force: 202ms\n",
      "Checkpoint stores: 922ms\n"
     ]
    },
    {
     "data": {
      "text/plain": [
       "0"
      ]
     },
     "execution_count": 48,
     "metadata": {},
     "output_type": "execute_result"
    }
   ],
   "source": [
    "os.system(command)"
   ]
  },
  {
   "cell_type": "markdown",
   "id": "071c149e-7ab7-416b-9144-73bbf03a777f",
   "metadata": {},
   "source": [
    "# Validate incremental import"
   ]
  },
  {
   "cell_type": "markdown",
   "id": "bf449218",
   "metadata": {},
   "source": [
    "Restart the database after the import."
   ]
  },
  {
   "cell_type": "code",
   "execution_count": 49,
   "id": "12a69bf4",
   "metadata": {},
   "outputs": [
    {
     "name": "stdout",
     "output_type": "stream",
     "text": [
      "address, state, message, success\n",
      "\"localhost:7687\", \"CaughtUp\", \"caught up\", TRUE\n"
     ]
    },
    {
     "data": {
      "text/plain": [
       "0"
      ]
     },
     "execution_count": 49,
     "metadata": {},
     "output_type": "execute_result"
    }
   ],
   "source": [
    "os.system(f'./bin/cypher-shell -u neo4j -p {password} \"START DATABASE insiderdb WAIT\"')"
   ]
  },
  {
   "cell_type": "markdown",
   "id": "3edf22d0",
   "metadata": {},
   "source": [
    "We should see 30,000 transaction nodes."
   ]
  },
  {
   "cell_type": "code",
   "execution_count": 50,
   "id": "bd1562f0-9910-41bd-97ea-53dbbc4385fc",
   "metadata": {},
   "outputs": [
    {
     "name": "stdout",
     "output_type": "stream",
     "text": [
      "label, nodeCount\n",
      "[\"Owner\"], 10716\n",
      "[\"Company\"], 2928\n",
      "[\"Transaction\"], 30000\n"
     ]
    },
    {
     "data": {
      "text/plain": [
       "0"
      ]
     },
     "execution_count": 50,
     "metadata": {},
     "output_type": "execute_result"
    }
   ],
   "source": [
    "os.system(f'./bin/cypher-shell -u neo4j -p {password} -d insiderdb '\n",
    "          '\"MATCH (n) RETURN labels(n) AS label, count(*) AS nodeCount\"')"
   ]
  },
  {
   "cell_type": "markdown",
   "id": "4b5e45be",
   "metadata": {},
   "source": [
    "We should see 30,000 of each type of relationship."
   ]
  },
  {
   "cell_type": "code",
   "execution_count": 51,
   "id": "bb9ab029-b5a7-45db-a38a-349869197183",
   "metadata": {},
   "outputs": [
    {
     "name": "stdout",
     "output_type": "stream",
     "text": [
      "type, relationshipCount\n",
      "\"MADE_TRANSACTION\", 30000\n",
      "\"FOR_COMPANY\", 30000\n"
     ]
    },
    {
     "data": {
      "text/plain": [
       "0"
      ]
     },
     "execution_count": 51,
     "metadata": {},
     "output_type": "execute_result"
    }
   ],
   "source": [
    "os.system(f'./bin/cypher-shell -u neo4j -p {password} -d insiderdb '\n",
    "          '\"MATCH ()-[r]->() RETURN type(r) AS type, count(*) AS relationshipCount\"')"
   ]
  },
  {
   "cell_type": "code",
   "execution_count": null,
   "id": "b1c82401-522c-4627-b735-6ff6363a5a67",
   "metadata": {},
   "outputs": [],
   "source": []
  }
 ],
 "metadata": {
  "kernelspec": {
   "display_name": "ISED (prodigy)",
   "language": "python",
   "name": "ised"
  },
  "language_info": {
   "codemirror_mode": {
    "name": "ipython",
    "version": 3
   },
   "file_extension": ".py",
   "mimetype": "text/x-python",
   "name": "python",
   "nbconvert_exporter": "python",
   "pygments_lexer": "ipython3",
   "version": "3.11.3"
  }
 },
 "nbformat": 4,
 "nbformat_minor": 5
}
